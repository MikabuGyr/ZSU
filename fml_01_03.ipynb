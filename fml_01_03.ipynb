{
  "cells": [
    {
      "cell_type": "markdown",
      "metadata": {
        "id": "EErgikq5jsjk",
        "jp-MarkdownHeadingCollapsed": true,
        "tags": []
      },
      "source": [
        "# Fundamentals of Machine Learning - Exercise 1\n",
        "The aim of the exercise is to get an overview of the basic capabilities of the Pandas, Matplotlib and Seaborn libraries and be able to setup a Python Virtual Enviroment (`venv`)\n",
        "\n",
        "**Jupyter lab**\n",
        "\n",
        "* Add code\n",
        "* Add text\n",
        "* Execute command\n",
        "* Shortcuts (a, b, dd, Ctrl+Enter, Shift+Enter, x, c, v)\n",
        "\n",
        "**Alternatives**\n",
        "\n",
        "* Google Colab ([Colaboratory](https://colab.research.google.com/))\n",
        "* Python scripts in VS Code\n",
        "\n",
        "\"![meme01](https://github.com/rasvob/VSB-FEI-Fundamentals-of-Machine-Learning-Exercises/blob/master/images/fml_01_meme_01.png?raw=true)"
      ]
    },
    {
      "cell_type": "markdown",
      "metadata": {
        "id": "l9hHDMhFjshW",
        "tags": []
      },
      "source": [
        "# Data processing\n",
        "\n",
        "Data source: https://www.kaggle.com/c/house-prices-advanced-regression-techniques/data\n",
        "\n",
        "Important attributes description:\n",
        "* SalePrice: The property's sale price in dollars. This is the target variable that you're trying to predict.\n",
        "* MSSubClass: The building class\n",
        "* BldgType: Type of dwelling\n",
        "* HouseStyle: Style of dwelling\n",
        "* OverallQual: Overall material and finish quality\n",
        "* OverallCond: Overall condition rating\n",
        "* YearBuilt: Original construction date\n",
        "* Heating: Type of heating\n",
        "* CentralAir: Central air conditioning\n",
        "* GrLivArea: Above grade (ground) living area square feet\n",
        "* BedroomAbvGr: Number of bedrooms above basement level"
      ]
    },
    {
      "cell_type": "markdown",
      "metadata": {
        "tags": [],
        "id": "NoFC9lJ3Kw7v"
      },
      "source": [
        "## Import used packages"
      ]
    },
    {
      "cell_type": "code",
      "execution_count": 1,
      "metadata": {
        "id": "FVFwXLhL75FZ"
      },
      "outputs": [],
      "source": [
        "import pandas as pd # dataframes\n",
        "import numpy as np # matrices and linear algebra\n",
        "import matplotlib.pyplot as plt # plotting\n",
        "import seaborn as sns # another matplotlib interface - styled and easier to use"
      ]
    },
    {
      "cell_type": "markdown",
      "metadata": {
        "id": "KmO5AtkTKw7x"
      },
      "source": [
        "## The first step is to load the data into the Pandas DataFrame - in our case it is a csv file\n",
        "* https://raw.githubusercontent.com/rasvob/VSB-FEI-Fundamentals-of-Machine-Learning-Exercises/master/datasets/zsu_cv1_data.csv"
      ]
    },
    {
      "cell_type": "code",
      "execution_count": 2,
      "metadata": {
        "id": "Y7MP2LEvKw7x"
      },
      "outputs": [],
      "source": [
        "df_full = pd.read_csv('https://raw.githubusercontent.com/rasvob/VSB-FEI-Fundamentals-of-Machine-Learning-Exercises/master/datasets/zsu_cv1_data.csv')"
      ]
    },
    {
      "cell_type": "markdown",
      "metadata": {
        "id": "lpW9lEJiKw7y"
      },
      "source": [
        "## We shloud take a look on the data after loading so we know that everything is OK"
      ]
    },
    {
      "cell_type": "markdown",
      "metadata": {
        "jp-MarkdownHeadingCollapsed": true,
        "tags": [],
        "id": "mfSzi-HiKw7y"
      },
      "source": [
        "### We will start with showing first/last N rows\n",
        "- There are several ways of doing that:\n",
        "    - name of the dataframe\n",
        "    - head()\n",
        "    - tail()"
      ]
    },
    {
      "cell_type": "markdown",
      "metadata": {
        "id": "tKVcR2M-Kw7z"
      },
      "source": [
        "### Show 5 first and last rows"
      ]
    },
    {
      "cell_type": "code",
      "execution_count": null,
      "metadata": {
        "id": "OihhHWPLKw7z"
      },
      "outputs": [],
      "source": []
    },
    {
      "cell_type": "markdown",
      "metadata": {
        "tags": [],
        "id": "WYy9XGr8Kw70"
      },
      "source": [
        "### Show first 5 rows"
      ]
    },
    {
      "cell_type": "code",
      "execution_count": null,
      "metadata": {
        "id": "bgK27UzdKw70"
      },
      "outputs": [],
      "source": []
    },
    {
      "cell_type": "markdown",
      "metadata": {
        "tags": [],
        "id": "SHEnOMpXKw70"
      },
      "source": [
        "### Show last 20 rows"
      ]
    },
    {
      "cell_type": "code",
      "execution_count": null,
      "metadata": {
        "id": "yLZg-F55Kw70"
      },
      "outputs": [],
      "source": [
        "df_full.tail(20)"
      ]
    },
    {
      "cell_type": "markdown",
      "metadata": {
        "id": "ZlWLgKxPKw70"
      },
      "source": [
        "## If we want to know if there are any missing values, the isna() function may render useful"
      ]
    },
    {
      "cell_type": "code",
      "execution_count": null,
      "metadata": {
        "id": "WRhC8mEuKw71"
      },
      "outputs": [],
      "source": []
    },
    {
      "cell_type": "markdown",
      "metadata": {
        "id": "vMLBv9q4Kw71"
      },
      "source": [
        "## We can show summary of common statistical characteristic of the data using the describe() function"
      ]
    },
    {
      "cell_type": "code",
      "execution_count": null,
      "metadata": {
        "id": "SuuZklpOKw71"
      },
      "outputs": [],
      "source": []
    },
    {
      "cell_type": "markdown",
      "metadata": {
        "tags": [],
        "id": "kv5IRUoDKw71"
      },
      "source": [
        "## 💡 Dataframe has several useful properties\n",
        "    - shape\n",
        "    - dtypes\n",
        "    - columns\n",
        "    - index"
      ]
    },
    {
      "cell_type": "markdown",
      "metadata": {
        "id": "uUr_0OtYKw71"
      },
      "source": [
        "#### Row and column count"
      ]
    },
    {
      "cell_type": "code",
      "execution_count": null,
      "metadata": {
        "id": "qITxlEQCKw71"
      },
      "outputs": [],
      "source": []
    },
    {
      "cell_type": "markdown",
      "metadata": {
        "id": "BOyxLyxbKw72"
      },
      "source": [
        "#### Datatypes of columns"
      ]
    },
    {
      "cell_type": "code",
      "execution_count": null,
      "metadata": {
        "id": "NFk6z6w3Kw72"
      },
      "outputs": [],
      "source": []
    },
    {
      "cell_type": "markdown",
      "metadata": {
        "id": "Mmy8--MUKw72"
      },
      "source": [
        "#### Column names"
      ]
    },
    {
      "cell_type": "code",
      "execution_count": null,
      "metadata": {
        "id": "dxjA_QuAKw72"
      },
      "outputs": [],
      "source": []
    },
    {
      "cell_type": "markdown",
      "metadata": {
        "id": "HSbrQ7KdKw72"
      },
      "source": [
        "#### Row index values"
      ]
    },
    {
      "cell_type": "code",
      "execution_count": null,
      "metadata": {
        "id": "vCorUCXCKw72"
      },
      "outputs": [],
      "source": []
    },
    {
      "cell_type": "markdown",
      "metadata": {
        "id": "ko2WIHWOKw73"
      },
      "source": [
        "## We may want to work with just one column not the whole dataframe\n",
        "- We will select only the SalePrice columns and save it to another variable"
      ]
    },
    {
      "cell_type": "code",
      "execution_count": null,
      "metadata": {
        "id": "mJg385mSKw73"
      },
      "outputs": [],
      "source": []
    },
    {
      "cell_type": "markdown",
      "metadata": {
        "id": "TAgFzJYtKw73"
      },
      "source": [
        "## Columns are called Pandas Series - it shares a common API with Pandas DataFrame\n",
        "- 💡 Pandas is numpy-backed so we can use Series as standard numpy arrays without any issues using the .values property"
      ]
    },
    {
      "cell_type": "code",
      "execution_count": null,
      "metadata": {
        "id": "BVfunlbCKw73"
      },
      "outputs": [],
      "source": []
    },
    {
      "cell_type": "markdown",
      "metadata": {
        "id": "9i3sylFzKw73"
      },
      "source": [
        "## Find maximum price using Numpy and Pandas"
      ]
    },
    {
      "cell_type": "code",
      "execution_count": null,
      "metadata": {
        "id": "UA1qs6JhKw73"
      },
      "outputs": [],
      "source": []
    },
    {
      "cell_type": "code",
      "execution_count": null,
      "metadata": {
        "id": "BwyR7SQ8Kw73"
      },
      "outputs": [],
      "source": []
    },
    {
      "cell_type": "markdown",
      "metadata": {
        "tags": [],
        "id": "VxR52JdUKw73"
      },
      "source": [
        "## Data filtering using Pandas DataFrame\n",
        "- There are several ways of filtering the data (similar logic to .Where() in C# or WHERE in SQL)\n",
        "- 💡 We usually work with two indexers - .loc[] and .iloc[]\n",
        "\n",
        "### The .iloc[] indexer works with positional indexes - very close to the way of working with the raw arrays\n",
        "### The .loc[] indexer works with column names and logical expressions"
      ]
    },
    {
      "cell_type": "markdown",
      "metadata": {
        "tags": [],
        "id": "c3PG9RMKKw74"
      },
      "source": [
        "### Select all rows and 3rd column of dataframe"
      ]
    },
    {
      "cell_type": "code",
      "execution_count": null,
      "metadata": {
        "id": "aBU5F6VXKw74"
      },
      "outputs": [],
      "source": []
    },
    {
      "cell_type": "markdown",
      "metadata": {
        "tags": [],
        "id": "YsfWM2kyKw74"
      },
      "source": [
        "### Select all rows and LAST column of dataframe"
      ]
    },
    {
      "cell_type": "code",
      "execution_count": null,
      "metadata": {
        "id": "B484JACFKw74"
      },
      "outputs": [],
      "source": []
    },
    {
      "cell_type": "markdown",
      "metadata": {
        "id": "ohcHaaHbKw8C"
      },
      "source": [
        "### Select 4th to 10th row and all columns"
      ]
    },
    {
      "cell_type": "code",
      "execution_count": null,
      "metadata": {
        "id": "zupTB2_JKw8D"
      },
      "outputs": [],
      "source": []
    },
    {
      "cell_type": "markdown",
      "metadata": {
        "tags": [],
        "id": "8hnwBT5_Kw8D"
      },
      "source": [
        "### Select 2nd to 13th row and 3rd column"
      ]
    },
    {
      "cell_type": "code",
      "execution_count": null,
      "metadata": {
        "id": "l7e6C6JVKw8D"
      },
      "outputs": [],
      "source": []
    },
    {
      "cell_type": "markdown",
      "metadata": {
        "id": "im2Qe4sxKw8D"
      },
      "source": [
        "## Select only a subset of columns to a new dataframe\n",
        "* 'Id', 'SalePrice','MSSubClass','BldgType','HouseStyle','OverallQual','OverallCond','YearBuilt','Heating','CentralAir','GrLivArea','BedroomAbvGr'"
      ]
    },
    {
      "cell_type": "code",
      "execution_count": null,
      "metadata": {
        "id": "4PaXsgVKKw8D"
      },
      "outputs": [],
      "source": [
        "df = df_full.loc[:, ['Id', 'SalePrice','MSSubClass','BldgType','HouseStyle','OverallQual','OverallCond','YearBuilt','Heating','CentralAir','GrLivArea','BedroomAbvGr']].copy()\n",
        "df.head()"
      ]
    },
    {
      "cell_type": "markdown",
      "metadata": {
        "id": "UDxO5cB5Kw8D"
      },
      "source": [
        "### Select only houses built in year 2000 or later\n",
        "* YearBuilt"
      ]
    },
    {
      "cell_type": "code",
      "execution_count": null,
      "metadata": {
        "id": "Kg_jiF97Kw8E"
      },
      "outputs": [],
      "source": []
    },
    {
      "cell_type": "markdown",
      "metadata": {
        "id": "sz53L3OCKw8E"
      },
      "source": [
        "### Select only houses that don't use GasA for heating (!= or ~ operators)\n",
        "* Heating"
      ]
    },
    {
      "cell_type": "code",
      "execution_count": null,
      "metadata": {
        "id": "E_HmcX6gKw8E"
      },
      "outputs": [],
      "source": []
    },
    {
      "cell_type": "markdown",
      "metadata": {
        "tags": [],
        "id": "2a7NmIZBKw8E"
      },
      "source": [
        "### Select houses cheaper than 180k USD and with at least 2 bedrooms\n",
        "* SalePrice, BedroomAbvGr"
      ]
    },
    {
      "cell_type": "code",
      "execution_count": null,
      "metadata": {
        "id": "66BQcQu9Kw8E"
      },
      "outputs": [],
      "source": []
    },
    {
      "cell_type": "markdown",
      "metadata": {
        "id": "eFlGLZiIKw8E"
      },
      "source": [
        "### Select houses with 2 stories or air conditioning\n",
        "* HouseStyle, CentralAir"
      ]
    },
    {
      "cell_type": "code",
      "execution_count": null,
      "metadata": {
        "id": "0HxCRz-cKw8E"
      },
      "outputs": [],
      "source": []
    },
    {
      "cell_type": "markdown",
      "metadata": {
        "tags": [],
        "id": "zTfsaaOZKw8F"
      },
      "source": [
        "# We can add new columns to the DataFrame as well\n",
        "\n",
        "![meme01](https://github.com/rasvob/VSB-FEI-Fundamentals-of-Machine-Learning-Exercises/blob/master/images/fml_01_meme_02.png?raw=true)"
      ]
    },
    {
      "cell_type": "markdown",
      "metadata": {
        "id": "aDUjnglKKw8F"
      },
      "source": [
        "### Add a new column named Age for each house (current year - year built)\n",
        "* YearBuilt"
      ]
    },
    {
      "cell_type": "code",
      "execution_count": null,
      "metadata": {
        "id": "0aqtOCFqKw8F"
      },
      "outputs": [],
      "source": []
    },
    {
      "cell_type": "markdown",
      "metadata": {
        "tags": [],
        "id": "ZDYcFGgZKw8F"
      },
      "source": [
        "### Add a new column IsLuxury with True value for houses with more than 3 bedrooms and price above 214k USD (.loc)\n",
        "- How many luxury houses are in the dataset?\n",
        "- SalePrice, BedroomAbvGr"
      ]
    },
    {
      "cell_type": "code",
      "execution_count": null,
      "metadata": {
        "id": "BNBTb3LiKw8F"
      },
      "outputs": [],
      "source": []
    },
    {
      "cell_type": "markdown",
      "metadata": {
        "tags": [],
        "id": "cUF_WjcNKw8F"
      },
      "source": [
        "## Pandas enables us to use aggregation functions for the data using the .groupby() function"
      ]
    },
    {
      "cell_type": "markdown",
      "metadata": {
        "id": "u0G_xnj4Kw8F"
      },
      "source": [
        "### Compute counts for all the heating methods (groupby / value_counts)\n",
        "* Heating"
      ]
    },
    {
      "cell_type": "code",
      "execution_count": null,
      "metadata": {
        "id": "poxl5oP_Kw8G"
      },
      "outputs": [],
      "source": []
    },
    {
      "cell_type": "code",
      "execution_count": null,
      "metadata": {
        "id": "m4RuUvEtKw8G"
      },
      "outputs": [],
      "source": []
    },
    {
      "cell_type": "markdown",
      "metadata": {
        "id": "aAE33I3Tjse0",
        "tags": []
      },
      "source": [
        "# Visualization"
      ]
    },
    {
      "cell_type": "markdown",
      "metadata": {
        "id": "NcwzgU4oAQGF"
      },
      "source": [
        "## Scatter plot\n",
        "- Visualize relationship between SalePrice and GrLivArea.\n",
        "- Use scatter plot from **Matplotlib**."
      ]
    },
    {
      "cell_type": "code",
      "execution_count": null,
      "metadata": {
        "id": "gHmSh07_ANdA"
      },
      "outputs": [],
      "source": []
    },
    {
      "cell_type": "markdown",
      "metadata": {
        "id": "i5snPTU2SUww",
        "tags": []
      },
      "source": [
        "### Modify figure size and add title"
      ]
    },
    {
      "cell_type": "code",
      "execution_count": null,
      "metadata": {
        "id": "m-iXZtpDLZD8"
      },
      "outputs": [],
      "source": []
    },
    {
      "cell_type": "markdown",
      "metadata": {
        "id": "uh1KH9eRSeni"
      },
      "source": [
        "### Add axis labels"
      ]
    },
    {
      "cell_type": "code",
      "execution_count": null,
      "metadata": {
        "id": "2-AYvW09Rwbh"
      },
      "outputs": [],
      "source": []
    },
    {
      "cell_type": "markdown",
      "metadata": {
        "id": "eQIMbATySmSj"
      },
      "source": [
        "### Add colors for data points based on CentralAir value."
      ]
    },
    {
      "cell_type": "code",
      "execution_count": null,
      "metadata": {
        "id": "kk7EzHSMSneC"
      },
      "outputs": [],
      "source": []
    },
    {
      "cell_type": "markdown",
      "metadata": {
        "id": "ykYT_tiXRNAJ"
      },
      "source": [
        "## Try to use scatterplot from **Seaborn** library for scatter plot visualization."
      ]
    },
    {
      "cell_type": "markdown",
      "metadata": {
        "id": "JWtmgIHEKw8H"
      },
      "source": [
        "#### Use dataframe as source and column names for axes data"
      ]
    },
    {
      "cell_type": "code",
      "execution_count": null,
      "metadata": {
        "id": "ZrR0mwqoRK1_"
      },
      "outputs": [],
      "source": []
    },
    {
      "cell_type": "markdown",
      "metadata": {
        "id": "tHh9Qun-Kw8H"
      },
      "source": [
        "### Resize plot and add color for markers based on CentralAir column"
      ]
    },
    {
      "cell_type": "code",
      "execution_count": null,
      "metadata": {
        "id": "4rAYREWlRYRN"
      },
      "outputs": [],
      "source": []
    },
    {
      "cell_type": "markdown",
      "metadata": {
        "id": "dT1O29MDVUEE"
      },
      "source": [
        "## Line plot\n",
        "- Calculate and vizualize average house price in relationship to YearBuild."
      ]
    },
    {
      "cell_type": "code",
      "execution_count": null,
      "metadata": {
        "id": "M_pFtbhsVC2Q"
      },
      "outputs": [],
      "source": []
    },
    {
      "cell_type": "code",
      "execution_count": null,
      "metadata": {
        "id": "bfXtmkA6Whdm"
      },
      "outputs": [],
      "source": []
    },
    {
      "cell_type": "markdown",
      "metadata": {
        "id": "VH2TGgm7XL6i"
      },
      "source": [
        "## Bar plot\n",
        "- Calculate and vizualize how many of houses have CentralAir\n",
        "- Use Barplot for visualization"
      ]
    },
    {
      "cell_type": "code",
      "execution_count": null,
      "metadata": {
        "id": "N-luAVWBb1Yt"
      },
      "outputs": [],
      "source": []
    },
    {
      "cell_type": "code",
      "execution_count": null,
      "metadata": {
        "id": "2rKj7QEicmWX"
      },
      "outputs": [],
      "source": []
    },
    {
      "cell_type": "markdown",
      "metadata": {
        "id": "SSkKDFEfb1Ql"
      },
      "source": [
        "### Vizualize number of building type and if they contains air conditioning using Seaborn"
      ]
    },
    {
      "cell_type": "code",
      "execution_count": null,
      "metadata": {
        "id": "RRRhPAvCc52Q"
      },
      "outputs": [],
      "source": []
    },
    {
      "cell_type": "code",
      "execution_count": null,
      "metadata": {
        "id": "pnpFAPXPb1HO"
      },
      "outputs": [],
      "source": []
    },
    {
      "cell_type": "markdown",
      "metadata": {
        "tags": [],
        "id": "m2wslBZpKw8J"
      },
      "source": [
        "# Tasks\n",
        "## ✅ Pandas (1 pt)\n",
        "* Add a new column *Undervalued* which is set to True in case that the house is priced bellow 163k USD and has both OverallQual and OverallCond higher than 5.\n",
        "\n",
        "* **How many undervalued houses are in the dataset?**\n",
        "\n",
        "## ✅ Vizualization (1 pt)\n",
        "* Add to dataframe new attribute determining if the house was build before or after year 2000.\n",
        "\n",
        "* **Create bar chart for number of houses depending on type of dwelling (attribute BldgType, use as a category axis) and added binary attribute about house age (use as a bar color).**"
      ]
    },
    {
      "cell_type": "code",
      "source": [
        "df_full['Undervalued'] = False\n",
        "df_full['Undervalued'] = (df_full['SalePrice'] < 163000) & (df_full['OverallQual'] > 5) & (df_full['OverallCond'] > 5)\n",
        "undervalued_count = df_full['Undervalued'].sum()\n",
        "print(f\"Number of undervalued houses: {undervalued_count}\")"
      ],
      "metadata": {
        "colab": {
          "base_uri": "https://localhost:8080/"
        },
        "id": "MNoys9RgK8UX",
        "outputId": "40087076-25c5-4df8-b1db-0f97155a7a9d"
      },
      "execution_count": 9,
      "outputs": [
        {
          "output_type": "stream",
          "name": "stdout",
          "text": [
            "Number of undervalued houses: 120\n"
          ]
        }
      ]
    }
  ],
  "metadata": {
    "colab": {
      "name": "ZSU_cv1_introduction_jupyter_pandas_visualization.ipynb",
      "provenance": []
    },
    "kernelspec": {
      "display_name": "Python 3",
      "language": "python",
      "name": "python3"
    },
    "language_info": {
      "codemirror_mode": {
        "name": "ipython",
        "version": 3
      },
      "file_extension": ".py",
      "mimetype": "text/x-python",
      "name": "python",
      "nbconvert_exporter": "python",
      "pygments_lexer": "ipython3",
      "version": "3.7.4"
    }
  },
  "nbformat": 4,
  "nbformat_minor": 0
}